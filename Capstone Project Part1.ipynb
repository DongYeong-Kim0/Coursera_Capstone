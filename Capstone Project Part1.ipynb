{
 "cells": [
  {
   "cell_type": "markdown",
   "metadata": {
    "collapsed": true
   },
   "source": [
    "# IBM Data Science Course Final Assignment - \"Where Can I Open the New Restaurant?\""
   ]
  },
  {
   "cell_type": "markdown",
   "metadata": {},
   "source": [
    "## Introduction"
   ]
  },
  {
   "cell_type": "markdown",
   "metadata": {},
   "source": [
    "In this project, I will try to find out a good location to open the new restaurant in Seoul, the capital of South Korea.  \n",
    "In 2019, **25% of Korean are self-employed involuntarily** because of cut-back and employment difficulties. You can find that the rate is very high, compared to other countries such as Japan(10%), US(6%), and OECD average(15%). So, I want to help the self-employed by find out how we select the place to open a store, especially a restaurant. In particular, I want to pay attention to **the number of restaurants per floating population** carefully."
   ]
  },
  {
   "cell_type": "markdown",
   "metadata": {},
   "source": [
    "## Data"
   ]
  },
  {
   "cell_type": "markdown",
   "metadata": {},
   "source": [
    "1. Information of restaurants (rate, type, etc.) near the each subway station of Seoul **from Foursquare**\n",
    "\n",
    "2. Location data(latitude, longitude, etc.) of the each station and restaurants **from Foursquare**\n",
    "\n",
    "3. User number data of the each subway station **from Seoul Metropolitan Government** (Seoul Government offers it free.)\n",
    "\n",
    "\\+ anything helpful to be build this project. It would be the data from Google Maps, Korean local platform(Naver, Kakao, etc.) and so on."
   ]
  }
 ],
 "metadata": {
  "kernelspec": {
   "display_name": "Python 3.7",
   "language": "python",
   "name": "python3"
  },
  "language_info": {
   "codemirror_mode": {
    "name": "ipython",
    "version": 3
   },
   "file_extension": ".py",
   "mimetype": "text/x-python",
   "name": "python",
   "nbconvert_exporter": "python",
   "pygments_lexer": "ipython3",
   "version": "3.7.9"
  }
 },
 "nbformat": 4,
 "nbformat_minor": 1
}
